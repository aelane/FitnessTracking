{
 "cells": [
  {
   "cell_type": "markdown",
   "metadata": {},
   "source": [
    "# Project Introduction\n",
    "\n",
    "This is the motivation and background for the project.\n",
    "\n",
    "THIS IS THE OVERALL GOAL & DESIRED OUTCOME OF OUR PROJECT\n",
    "\n",
    "This project explores the data from UCI Machine Learning posted up on Kaggle. \n",
    "\n",
    "https://www.kaggle.com/uciml/human-activity-recognition-with-smartphones/home\n",
    "\n",
    "## Process Overview\n",
    "1. Imports & Function Definitions\n",
    "1. Ingest the Data\n",
    "1. Exploratory Data Analysis\n",
    "1. PCA with Visualization\n",
    "1. GMM \n",
    "1. KMeans & KNN\n",
    "1. Any other Models\n",
    "1. Logistic Regression  \n",
    "THESE MAY NOT BE NECESSARY IN THE NOTEBOOK. MORE FOR THE PRESENTATION\n",
    "1. Comparison of Results\n",
    "1. Conclusions\n",
    "1. Recommendations and Next Steps"
   ]
  },
  {
   "cell_type": "markdown",
   "metadata": {},
   "source": [
    "## Imports & Function Definitions"
   ]
  },
  {
   "cell_type": "code",
   "execution_count": 1,
   "metadata": {},
   "outputs": [],
   "source": [
    "# Imports \n",
    "%matplotlib inline\n",
    "\n",
    "# General Python libraries\n",
    "import matplotlib.pyplot as plt\n",
    "import numpy as np\n",
    "import os\n",
    "import pandas as pd\n",
    "import re\n",
    "import time\n",
    "import random\n",
    "\n",
    "# Feature Extraction & Unsupervised Libraries\n",
    "from sklearn.feature_extraction.text import *\n",
    "from sklearn.decomposition import PCA\n",
    "from sklearn.cluster import KMeans\n",
    "from sklearn.mixture import GMM # Jason thinks we should delete this and anything else not used\n",
    "from sklearn.mixture import GaussianMixture\n",
    "\n",
    "from sklearn import preprocessing\n",
    "from matplotlib.colors import LogNorm\n",
    "\n",
    "# Learning/Model Libraries\n",
    "from sklearn.pipeline import Pipeline # Jason thinks this isn't a model\n",
    "from sklearn.neighbors import KNeighborsClassifier\n",
    "from sklearn.linear_model import LogisticRegression\n",
    "from sklearn.naive_bayes import BernoulliNB\n",
    "from sklearn.naive_bayes import MultinomialNB\n",
    "from sklearn.model_selection import GridSearchCV # Jason thinks this isn't a model\n",
    "# Add trees libraries\n",
    "\n",
    "# Evaluation Libarires\n",
    "from sklearn.metrics import confusion_matrix\n",
    "from sklearn import metrics\n",
    "from sklearn.metrics import classification_report"
   ]
  },
  {
   "cell_type": "code",
   "execution_count": 2,
   "metadata": {},
   "outputs": [],
   "source": [
    "def show_confusion_mat(test_labels, predict_labels, target_names):\n",
    "    size_val = len(target_names)\n",
    "    \n",
    "    # Calculate the confusion matrix\n",
    "    result_confusion = confusion_matrix(test_labels, predict_labels, target_names)\n",
    "    \n",
    "    # Create a heat map version of the confusion matrix to print\n",
    "    fig = plt.figure(figsize = (size_val, size_val))\n",
    "    ax = fig.add_subplot(1, 1, 1)\n",
    "    im = ax.imshow(result_confusion, cmap = plt.get_cmap('PuRd'))\n",
    "    target_values = np.arange(size_val)\n",
    "    ax.set_xticks(target_values)\n",
    "    ax.set_yticks(target_values)\n",
    "    ax.xaxis.tick_top()\n",
    "    ax.xaxis.set_label_position('top') \n",
    "    ax.set_xticklabels(target_names, rotation = 90)\n",
    "    ax.set_yticklabels(target_names)\n",
    "    # Loop over data dimensions and create text annotations.\n",
    "    for x_ind in target_values:\n",
    "        for y_ind in target_values:\n",
    "            text = ax.text(y_ind, x_ind, result_confusion[x_ind, y_ind],\n",
    "                       ha=\"center\", va=\"center\", color=\"k\")\n",
    "    plt.xlabel('Predicted Label')\n",
    "    plt.ylabel('True Label')\n",
    "    fig.tight_layout()\n",
    "    plt.show()"
   ]
  },
  {
   "cell_type": "markdown",
   "metadata": {},
   "source": [
    "## Ingest the Data"
   ]
  },
  {
   "cell_type": "code",
   "execution_count": 3,
   "metadata": {},
   "outputs": [
    {
     "data": {
      "text/html": [
       "<div>\n",
       "<style scoped>\n",
       "    .dataframe tbody tr th:only-of-type {\n",
       "        vertical-align: middle;\n",
       "    }\n",
       "\n",
       "    .dataframe tbody tr th {\n",
       "        vertical-align: top;\n",
       "    }\n",
       "\n",
       "    .dataframe thead th {\n",
       "        text-align: right;\n",
       "    }\n",
       "</style>\n",
       "<table border=\"1\" class=\"dataframe\">\n",
       "  <thead>\n",
       "    <tr style=\"text-align: right;\">\n",
       "      <th></th>\n",
       "      <th>tBodyAcc-mean()-X</th>\n",
       "      <th>tBodyAcc-mean()-Y</th>\n",
       "      <th>tBodyAcc-mean()-Z</th>\n",
       "      <th>tBodyAcc-std()-X</th>\n",
       "      <th>tBodyAcc-std()-Y</th>\n",
       "      <th>tBodyAcc-std()-Z</th>\n",
       "      <th>tBodyAcc-mad()-X</th>\n",
       "      <th>tBodyAcc-mad()-Y</th>\n",
       "      <th>tBodyAcc-mad()-Z</th>\n",
       "      <th>tBodyAcc-max()-X</th>\n",
       "      <th>...</th>\n",
       "      <th>fBodyBodyGyroJerkMag-kurtosis()</th>\n",
       "      <th>angle(tBodyAccMean,gravity)</th>\n",
       "      <th>angle(tBodyAccJerkMean),gravityMean)</th>\n",
       "      <th>angle(tBodyGyroMean,gravityMean)</th>\n",
       "      <th>angle(tBodyGyroJerkMean,gravityMean)</th>\n",
       "      <th>angle(X,gravityMean)</th>\n",
       "      <th>angle(Y,gravityMean)</th>\n",
       "      <th>angle(Z,gravityMean)</th>\n",
       "      <th>subject</th>\n",
       "      <th>Activity</th>\n",
       "    </tr>\n",
       "  </thead>\n",
       "  <tbody>\n",
       "    <tr>\n",
       "      <th>0</th>\n",
       "      <td>0.288585</td>\n",
       "      <td>-0.020294</td>\n",
       "      <td>-0.132905</td>\n",
       "      <td>-0.995279</td>\n",
       "      <td>-0.983111</td>\n",
       "      <td>-0.913526</td>\n",
       "      <td>-0.995112</td>\n",
       "      <td>-0.983185</td>\n",
       "      <td>-0.923527</td>\n",
       "      <td>-0.934724</td>\n",
       "      <td>...</td>\n",
       "      <td>-0.710304</td>\n",
       "      <td>-0.112754</td>\n",
       "      <td>0.030400</td>\n",
       "      <td>-0.464761</td>\n",
       "      <td>-0.018446</td>\n",
       "      <td>-0.841247</td>\n",
       "      <td>0.179941</td>\n",
       "      <td>-0.058627</td>\n",
       "      <td>1</td>\n",
       "      <td>STANDING</td>\n",
       "    </tr>\n",
       "    <tr>\n",
       "      <th>1</th>\n",
       "      <td>0.278419</td>\n",
       "      <td>-0.016411</td>\n",
       "      <td>-0.123520</td>\n",
       "      <td>-0.998245</td>\n",
       "      <td>-0.975300</td>\n",
       "      <td>-0.960322</td>\n",
       "      <td>-0.998807</td>\n",
       "      <td>-0.974914</td>\n",
       "      <td>-0.957686</td>\n",
       "      <td>-0.943068</td>\n",
       "      <td>...</td>\n",
       "      <td>-0.861499</td>\n",
       "      <td>0.053477</td>\n",
       "      <td>-0.007435</td>\n",
       "      <td>-0.732626</td>\n",
       "      <td>0.703511</td>\n",
       "      <td>-0.844788</td>\n",
       "      <td>0.180289</td>\n",
       "      <td>-0.054317</td>\n",
       "      <td>1</td>\n",
       "      <td>STANDING</td>\n",
       "    </tr>\n",
       "    <tr>\n",
       "      <th>2</th>\n",
       "      <td>0.279653</td>\n",
       "      <td>-0.019467</td>\n",
       "      <td>-0.113462</td>\n",
       "      <td>-0.995380</td>\n",
       "      <td>-0.967187</td>\n",
       "      <td>-0.978944</td>\n",
       "      <td>-0.996520</td>\n",
       "      <td>-0.963668</td>\n",
       "      <td>-0.977469</td>\n",
       "      <td>-0.938692</td>\n",
       "      <td>...</td>\n",
       "      <td>-0.760104</td>\n",
       "      <td>-0.118559</td>\n",
       "      <td>0.177899</td>\n",
       "      <td>0.100699</td>\n",
       "      <td>0.808529</td>\n",
       "      <td>-0.848933</td>\n",
       "      <td>0.180637</td>\n",
       "      <td>-0.049118</td>\n",
       "      <td>1</td>\n",
       "      <td>STANDING</td>\n",
       "    </tr>\n",
       "    <tr>\n",
       "      <th>3</th>\n",
       "      <td>0.279174</td>\n",
       "      <td>-0.026201</td>\n",
       "      <td>-0.123283</td>\n",
       "      <td>-0.996091</td>\n",
       "      <td>-0.983403</td>\n",
       "      <td>-0.990675</td>\n",
       "      <td>-0.997099</td>\n",
       "      <td>-0.982750</td>\n",
       "      <td>-0.989302</td>\n",
       "      <td>-0.938692</td>\n",
       "      <td>...</td>\n",
       "      <td>-0.482845</td>\n",
       "      <td>-0.036788</td>\n",
       "      <td>-0.012892</td>\n",
       "      <td>0.640011</td>\n",
       "      <td>-0.485366</td>\n",
       "      <td>-0.848649</td>\n",
       "      <td>0.181935</td>\n",
       "      <td>-0.047663</td>\n",
       "      <td>1</td>\n",
       "      <td>STANDING</td>\n",
       "    </tr>\n",
       "    <tr>\n",
       "      <th>4</th>\n",
       "      <td>0.276629</td>\n",
       "      <td>-0.016570</td>\n",
       "      <td>-0.115362</td>\n",
       "      <td>-0.998139</td>\n",
       "      <td>-0.980817</td>\n",
       "      <td>-0.990482</td>\n",
       "      <td>-0.998321</td>\n",
       "      <td>-0.979672</td>\n",
       "      <td>-0.990441</td>\n",
       "      <td>-0.942469</td>\n",
       "      <td>...</td>\n",
       "      <td>-0.699205</td>\n",
       "      <td>0.123320</td>\n",
       "      <td>0.122542</td>\n",
       "      <td>0.693578</td>\n",
       "      <td>-0.615971</td>\n",
       "      <td>-0.847865</td>\n",
       "      <td>0.185151</td>\n",
       "      <td>-0.043892</td>\n",
       "      <td>1</td>\n",
       "      <td>STANDING</td>\n",
       "    </tr>\n",
       "  </tbody>\n",
       "</table>\n",
       "<p>5 rows × 563 columns</p>\n",
       "</div>"
      ],
      "text/plain": [
       "   tBodyAcc-mean()-X  tBodyAcc-mean()-Y  tBodyAcc-mean()-Z  tBodyAcc-std()-X  \\\n",
       "0           0.288585          -0.020294          -0.132905         -0.995279   \n",
       "1           0.278419          -0.016411          -0.123520         -0.998245   \n",
       "2           0.279653          -0.019467          -0.113462         -0.995380   \n",
       "3           0.279174          -0.026201          -0.123283         -0.996091   \n",
       "4           0.276629          -0.016570          -0.115362         -0.998139   \n",
       "\n",
       "   tBodyAcc-std()-Y  tBodyAcc-std()-Z  tBodyAcc-mad()-X  tBodyAcc-mad()-Y  \\\n",
       "0         -0.983111         -0.913526         -0.995112         -0.983185   \n",
       "1         -0.975300         -0.960322         -0.998807         -0.974914   \n",
       "2         -0.967187         -0.978944         -0.996520         -0.963668   \n",
       "3         -0.983403         -0.990675         -0.997099         -0.982750   \n",
       "4         -0.980817         -0.990482         -0.998321         -0.979672   \n",
       "\n",
       "   tBodyAcc-mad()-Z  tBodyAcc-max()-X    ...     \\\n",
       "0         -0.923527         -0.934724    ...      \n",
       "1         -0.957686         -0.943068    ...      \n",
       "2         -0.977469         -0.938692    ...      \n",
       "3         -0.989302         -0.938692    ...      \n",
       "4         -0.990441         -0.942469    ...      \n",
       "\n",
       "   fBodyBodyGyroJerkMag-kurtosis()  angle(tBodyAccMean,gravity)  \\\n",
       "0                        -0.710304                    -0.112754   \n",
       "1                        -0.861499                     0.053477   \n",
       "2                        -0.760104                    -0.118559   \n",
       "3                        -0.482845                    -0.036788   \n",
       "4                        -0.699205                     0.123320   \n",
       "\n",
       "   angle(tBodyAccJerkMean),gravityMean)  angle(tBodyGyroMean,gravityMean)  \\\n",
       "0                              0.030400                         -0.464761   \n",
       "1                             -0.007435                         -0.732626   \n",
       "2                              0.177899                          0.100699   \n",
       "3                             -0.012892                          0.640011   \n",
       "4                              0.122542                          0.693578   \n",
       "\n",
       "   angle(tBodyGyroJerkMean,gravityMean)  angle(X,gravityMean)  \\\n",
       "0                             -0.018446             -0.841247   \n",
       "1                              0.703511             -0.844788   \n",
       "2                              0.808529             -0.848933   \n",
       "3                             -0.485366             -0.848649   \n",
       "4                             -0.615971             -0.847865   \n",
       "\n",
       "   angle(Y,gravityMean)  angle(Z,gravityMean)  subject  Activity  \n",
       "0              0.179941             -0.058627        1  STANDING  \n",
       "1              0.180289             -0.054317        1  STANDING  \n",
       "2              0.180637             -0.049118        1  STANDING  \n",
       "3              0.181935             -0.047663        1  STANDING  \n",
       "4              0.185151             -0.043892        1  STANDING  \n",
       "\n",
       "[5 rows x 563 columns]"
      ]
     },
     "execution_count": 3,
     "metadata": {},
     "output_type": "execute_result"
    }
   ],
   "source": [
    "target_names = ['WALKING', 'WALKING_UPSTAIRS', 'WALKING_DOWNSTAIRS', 'SITTING', 'STANDING', 'LAYING']\n",
    "group_names = ['DYNAMIC', 'STATIC']\n",
    "\n",
    "# Read in the raw data, process and save into different folder\n",
    "RAWDATA_PATH = '../data/raw/UCIHumanActivity/'\n",
    "df_rtrain = pd.read_csv(f'{RAWDATA_PATH}train.csv')\n",
    "all_columns = df_rtrain.columns\n",
    "feature_columns = all_columns[0:561]\n",
    "train_labels = df_rtrain['Activity'].values\n",
    "\n",
    "train_group = [\"DYNAMIC\" if 'WALKING' in activity else \"STATIC\" for activity in train_labels]\n",
    "train_data = df_rtrain[feature_columns].values\n",
    "\n",
    "df_rtrain.head()"
   ]
  },
  {
   "cell_type": "code",
   "execution_count": 4,
   "metadata": {},
   "outputs": [],
   "source": [
    "# Load in and process test data\n",
    "df_rtest = pd.read_csv(f'{RAWDATA_PATH}test.csv')\n",
    "test_labels = df_rtest['Activity'].values\n",
    "test_group = [\"DYNAMIC\" if 'WALKING' in activity else \"STATIC\" for activity in test_labels]\n",
    "test_data = df_rtest[feature_columns].values"
   ]
  },
  {
   "cell_type": "markdown",
   "metadata": {},
   "source": [
    "## Exploratory Data Analysis\n",
    "### Basic characteristics of the raw training data"
   ]
  },
  {
   "cell_type": "code",
   "execution_count": 5,
   "metadata": {},
   "outputs": [
    {
     "name": "stdout",
     "output_type": "stream",
     "text": [
      "There are 7352 rows and 563 columns in raw training data, with 0 empty fields.\n",
      "\n",
      "Datatypes in raw training data, along with their counts, which do sum to the number of columns:\n",
      "float64    561\n",
      "object       1\n",
      "int64        1\n",
      "dtype: int64\n",
      "\n",
      "Column name and datatype for the last three columns in the raw training data:\n",
      "angle(Z,gravityMean)    float64\n",
      "subject                   int64\n",
      "Activity                 object\n",
      "dtype: object\n"
     ]
    }
   ],
   "source": [
    "print(\"There are %d rows and %d columns in raw training data, with %d empty fields.\" \n",
    "      % (df_rtrain.shape[0], df_rtrain.shape[1], sum(df_rtrain.isnull().sum())))\n",
    "print(\"\\nDatatypes in raw training data, along with their counts, which do sum to the number of columns:\")\n",
    "print(df_rtrain.dtypes.value_counts())\n",
    "print(\"\\nColumn name and datatype for the last three columns in the raw training data:\")\n",
    "print(df_rtrain.dtypes[-3:])"
   ]
  },
  {
   "cell_type": "markdown",
   "metadata": {},
   "source": [
    "### Basic characteristics of the raw test data"
   ]
  },
  {
   "cell_type": "code",
   "execution_count": 6,
   "metadata": {},
   "outputs": [
    {
     "name": "stdout",
     "output_type": "stream",
     "text": [
      "There are 2947 rows and 563 columns in raw test data, with 0 empty fields.\n",
      "\n",
      "Datatypes in raw test data, along with their counts, which sum to the number of columns:\n",
      "float64    561\n",
      "object       1\n",
      "int64        1\n",
      "dtype: int64\n",
      "\n",
      "Column name and datatype for the last three columns in the raw test data:\n",
      "angle(Z,gravityMean)    float64\n",
      "subject                   int64\n",
      "Activity                 object\n",
      "dtype: object\n"
     ]
    }
   ],
   "source": [
    "print(\"There are %d rows and %d columns in raw test data, with %d empty fields.\" \n",
    "      % (df_rtest.shape[0], df_rtest.shape[1], sum(df_rtrain.isnull().sum())))\n",
    "print(\"\\nDatatypes in raw test data, along with their counts, which sum to the number of columns:\")\n",
    "print(df_rtest.dtypes.value_counts())\n",
    "print(\"\\nColumn name and datatype for the last three columns in the raw test data:\")\n",
    "print(df_rtest.dtypes[-3:])"
   ]
  },
  {
   "cell_type": "markdown",
   "metadata": {},
   "source": [
    "### Assessing balance of subjects and activities in raw training and test data"
   ]
  },
  {
   "cell_type": "code",
   "execution_count": 7,
   "metadata": {},
   "outputs": [
    {
     "name": "stdout",
     "output_type": "stream",
     "text": [
      "There are 21 subjects (participants) in the raw training data, identified by integers.\n",
      "The number of examples per subject ranges from 281 to 409 (factor of 1.5) as follows:\n",
      "25    409\n",
      "21    408\n",
      "26    392\n",
      "30    383\n",
      "28    382\n",
      "27    376\n",
      "23    372\n",
      "17    368\n",
      "16    366\n",
      "19    360\n",
      "1     347\n",
      "29    344\n",
      "3     341\n",
      "15    328\n",
      "6     325\n",
      "14    323\n",
      "22    321\n",
      "11    316\n",
      "7     308\n",
      "5     302\n",
      "8     281\n",
      "Name: subject, dtype: int64\n",
      "\n",
      "Examples in the raw training data are labeled with one of 6 activities.\n",
      "The number of examples per activity ranges from 986 to 1407 (factor of 1.4) as follows:\n"
     ]
    },
    {
     "data": {
      "text/plain": [
       "LAYING                1407\n",
       "STANDING              1374\n",
       "SITTING               1286\n",
       "WALKING               1226\n",
       "WALKING_UPSTAIRS      1073\n",
       "WALKING_DOWNSTAIRS     986\n",
       "Name: Activity, dtype: int64"
      ]
     },
     "execution_count": 7,
     "metadata": {},
     "output_type": "execute_result"
    }
   ],
   "source": [
    "print(\"There are %d subjects (participants) in the raw training data, identified by integers.\" \n",
    "      % (len(np.unique(df_rtrain['subject']))))\n",
    "print(\"The number of examples per subject ranges from %d to %d (factor of %.1f) as follows:\"\n",
    "      % (min(df_rtrain['subject'].value_counts()), max(df_rtrain['subject'].value_counts()),\n",
    "        max(df_rtrain['subject'].value_counts()) / min(df_rtrain['subject'].value_counts())))\n",
    "print(df_rtrain['subject'].value_counts())\n",
    "print(\"\\nExamples in the raw training data are labeled with one of %d activities.\" \n",
    "      % (len(np.unique(df_rtrain['Activity']))))\n",
    "print(\"The number of examples per activity ranges from %d to %d (factor of %.1f) as follows:\"\n",
    "      % (min(df_rtrain['Activity'].value_counts()), max(df_rtrain['Activity'].value_counts()),\n",
    "        max(df_rtrain['Activity'].value_counts()) / min(df_rtrain['Activity'].value_counts())))\n",
    "df_rtrain['Activity'].value_counts()"
   ]
  },
  {
   "cell_type": "code",
   "execution_count": 8,
   "metadata": {},
   "outputs": [
    {
     "name": "stdout",
     "output_type": "stream",
     "text": [
      "There are 9 subjects (participants) in the raw test data, identified by integers.\n",
      "The number of examples per subject ranges from 288 to 381 (factor of 1.3) as follows:\n",
      "24    381\n",
      "18    364\n",
      "20    354\n",
      "13    327\n",
      "12    320\n",
      "4     317\n",
      "2     302\n",
      "10    294\n",
      "9     288\n",
      "Name: subject, dtype: int64\n",
      "\n",
      "Examples in the raw test data are labeled with one of 6 activities.\n",
      "The number of examples per activity ranges from 420 to 537 (factor of 1.3) as follows:\n"
     ]
    },
    {
     "data": {
      "text/plain": [
       "LAYING                537\n",
       "STANDING              532\n",
       "WALKING               496\n",
       "SITTING               491\n",
       "WALKING_UPSTAIRS      471\n",
       "WALKING_DOWNSTAIRS    420\n",
       "Name: Activity, dtype: int64"
      ]
     },
     "execution_count": 8,
     "metadata": {},
     "output_type": "execute_result"
    }
   ],
   "source": [
    "print(\"There are %d subjects (participants) in the raw test data, identified by integers.\" \n",
    "      % (len(np.unique(df_rtest['subject']))))\n",
    "print(\"The number of examples per subject ranges from %d to %d (factor of %.1f) as follows:\"\n",
    "      % (min(df_rtest['subject'].value_counts()), max(df_rtest['subject'].value_counts()),\n",
    "        max(df_rtest['subject'].value_counts()) / min(df_rtest['subject'].value_counts())))\n",
    "print(df_rtest['subject'].value_counts())\n",
    "print(\"\\nExamples in the raw test data are labeled with one of %d activities.\" \n",
    "      % (len(np.unique(df_rtest['Activity']))))\n",
    "print(\"The number of examples per activity ranges from %d to %d (factor of %.1f) as follows:\"\n",
    "      % (min(df_rtest['Activity'].value_counts()), max(df_rtest['Activity'].value_counts()),\n",
    "        max(df_rtest['Activity'].value_counts()) / min(df_rtest['Activity'].value_counts())))\n",
    "df_rtest['Activity'].value_counts()"
   ]
  },
  {
   "cell_type": "markdown",
   "metadata": {},
   "source": [
    "### Observations on basic characteristics of the raw training and test data\n",
    "* There are 7352 examples in the training set, and 2947 examples in the test set.\n",
    "* There are 563 columns in both data sets.\n",
    "* Each example is labeled with one of 6 activities (Y) in the last column, represented as a text object.\n",
    "* There are 21 subjects in the training set and 9 others in the test set, each identified by an integer.\n",
    "* The datatype for all 561 other columns is float64.\n",
    "* There are no NaN fields.\n",
    "* Within each dataset, subjects and activities have balanced representation across examples.\n",
    "\n",
    "### Evaluating skew in the raw training set\n",
    "* According to the Kaggle website, the training/test split was based on randomly-selected subjects. We'll assume for now that this is true (appears so), such that skew in training set reflects skew in test set. "
   ]
  },
  {
   "cell_type": "code",
   "execution_count": 9,
   "metadata": {},
   "outputs": [
    {
     "name": "stdout",
     "output_type": "stream",
     "text": [
      "The following histograms suggest that range of values for a given feature is not always from -1 to 1.\n",
      "Skew appears to be generally positive.\n"
     ]
    },
    {
     "data": {
      "image/png": "[encoded data removed]",
      "text/plain": [
       "<Figure size 1152x216 with 4 Axes>"
      ]
     },
     "metadata": {},
     "output_type": "display_data"
    }
   ],
   "source": [
    "print(\"The following histograms suggest that range of values for a given feature is not always from -1 to 1.\")\n",
    "print(\"Skew appears to be generally positive.\")\n",
    "# https://blog.stata.com/2016/12/13/understanding-truncation-and-censoring/\n",
    "exclude = ['Activity', 'subject']\n",
    "mins = df_rtrain.loc[:, df_rtrain.columns.difference(exclude)].min()\n",
    "mens = df_rtrain.loc[:, df_rtrain.columns.difference(exclude)].mean()\n",
    "meds = df_rtrain.loc[:, df_rtrain.columns.difference(exclude)].median()\n",
    "maxs = df_rtrain.loc[:, df_rtrain.columns.difference(exclude)].max()\n",
    "df = pd.DataFrame({'minima':mins, 'means':mens, 'medians':meds, 'maxima':maxs})\n",
    "headers = ['minima','maxima','means','medians']\n",
    "plt.figure(num=None, figsize=(16,3))\n",
    "for i in range(0,df.shape[1]):\n",
    "    plt.subplot(1,4,i+1)\n",
    "    plt.hist(df[headers[i]])\n",
    "    plt.title(headers[i])\n",
    "plt.subplots_adjust(top=0.92, bottom=0.08, left=0.10, right=0.95, hspace=0.25, wspace=0.35)\n",
    "plt.show()"
   ]
  },
  {
   "cell_type": "code",
   "execution_count": 10,
   "metadata": {},
   "outputs": [
    {
     "name": "stdout",
     "output_type": "stream",
     "text": [
      "A random sampling of features suggests there is also some censoring and/or truncation.\n",
      "(In addition to the generally positive skew.)\n"
     ]
    },
    {
     "data": {
      "image/png": "[encoded data removed]",
      "text/plain": [
       "<Figure size 1152x216 with 4 Axes>"
      ]
     },
     "metadata": {},
     "output_type": "display_data"
    }
   ],
   "source": [
    "print(\"A random sampling of features suggests there is also some censoring and/or truncation.\")\n",
    "print(\"(In addition to the generally positive skew.)\")\n",
    "plt.figure(num=None, figsize=(16,3))\n",
    "rand_list = random.sample(range(0,561),4)\n",
    "for i in range(0,len(rand_list)):\n",
    "    plt.subplot(1,4,i+1)\n",
    "    plt.hist(df_rtrain[df_rtrain.columns[rand_list[i]]])\n",
    "    plt.title(df_rtrain.columns[rand_list[i]])\n",
    "plt.subplots_adjust(top=0.92, bottom=0.08, left=0.10, right=0.95, hspace=0.25, wspace=0.35)\n",
    "plt.show()"
   ]
  },
  {
   "cell_type": "markdown",
   "metadata": {},
   "source": [
    "## PCA & Visualization of Features\n",
    "* Annie recommends pulling from Jason's and Matt's (like the plots on the feature value)\n",
    "\n",
    "### Evaluating the potential for data compression\n",
    "* 561 features (temporarily excluding the 'subject' column) is a lot to manage"
   ]
  },
  {
   "cell_type": "code",
   "execution_count": 11,
   "metadata": {},
   "outputs": [
    {
     "name": "stdout",
     "output_type": "stream",
     "text": [
      "Even with no feature scaling, only 5 PCA components are needed to explain 75% of total variance.\n",
      "Scaling to a range from 0 to 1 does not affect portion of total variance explained.\n",
      "In contrast, standardizing to zero mean and unity variance worsens compression.\n"
     ]
    },
    {
     "data": {
      "image/png": "[encoded data removed]",
      "text/plain": [
       "<Figure size 1152x288 with 3 Axes>"
      ]
     },
     "metadata": {},
     "output_type": "display_data"
    }
   ],
   "source": [
    "def first_k(k_range, pca):\n",
    "    first_k = []\n",
    "    for k in k_range:\n",
    "        if k == 1:\n",
    "            first_k.extend([pca.explained_variance_ratio_[k-1]])\n",
    "        else:\n",
    "            first_k.extend(first_k[k-2]+[pca.explained_variance_ratio_[k-1]])\n",
    "    return first_k\n",
    "\n",
    "exclude = ['Activity', 'subject']\n",
    "k_range = list(range(1,51))\n",
    "\n",
    "plt.figure(num=None, figsize=(16,4))\n",
    "\n",
    "rtrain_ns = df_rtrain.loc[:, df_rtrain.columns.difference(exclude)]\n",
    "pca_ns = PCA(n_components=len(k_range))\n",
    "pca_ns.fit(rtrain_ns)\n",
    "plt.subplot(1,3,1)\n",
    "plt.plot(k_range, first_k(k_range,pca_ns), label=df_rtrain['Activity'])\n",
    "plt.title('No feature scaling')\n",
    "plt.xlabel('first k principal components')\n",
    "plt.ylabel('portion of total variance explained')\n",
    "plt.grid(True)\n",
    "\n",
    "rtrain_mms = df_rtrain.loc[:, df_rtrain.columns.difference(exclude)]\n",
    "mm_scaler = preprocessing.MinMaxScaler(feature_range=(0,1))\n",
    "rtrain_mms = mm_scaler.fit_transform(rtrain_mms)\n",
    "pca_mms = PCA(n_components=len(k_range))\n",
    "pca_mms.fit(rtrain_mms)\n",
    "plt.subplot(1,3,2)\n",
    "plt.plot(k_range, first_k(k_range,pca_mms), label=df_rtrain['Activity'])\n",
    "plt.title('MinMaxScaler(feature_range=(0,1))')\n",
    "plt.xlabel('first k principal components')\n",
    "plt.ylabel('portion of total variance explained')\n",
    "plt.grid(True)\n",
    "\n",
    "rtrain_sts = df_rtrain.loc[:, df_rtrain.columns.difference(exclude)]\n",
    "st_scaler = preprocessing.StandardScaler()\n",
    "rtrain_sts = st_scaler.fit_transform(rtrain_sts)\n",
    "pca_sts = PCA(n_components=len(k_range))\n",
    "pca_sts.fit(rtrain_sts)\n",
    "plt.subplot(1,3,3)\n",
    "plt.plot(k_range, first_k(k_range,pca_sts), label=df_rtrain['Activity'])\n",
    "plt.title('StandardScaler')\n",
    "plt.xlabel('first k principal components')\n",
    "plt.ylabel('portion of total variance explained')\n",
    "plt.grid(True)\n",
    "\n",
    "plt.subplots_adjust(top=0.92, bottom=0.08, left=0.10, right=0.95, hspace=0.25, wspace=0.35)\n",
    "print(\"Even with no feature scaling, only 5 PCA components are needed to explain 75% of total variance.\")\n",
    "print(\"Scaling to a range from 0 to 1 does not affect portion of total variance explained.\")\n",
    "print(\"In contrast, standardizing to zero mean and unity variance worsens compression.\")\n",
    "plt.show()"
   ]
  },
  {
   "cell_type": "markdown",
   "metadata": {},
   "source": [
    "### Visualizing the effect of 2-component PCA"
   ]
  },
  {
   "cell_type": "code",
   "execution_count": 12,
   "metadata": {},
   "outputs": [
    {
     "name": "stdout",
     "output_type": "stream",
     "text": [
      "Using MinMaxScaler and 2-component PCA, the examples are visibly split into two superclusters.\n",
      "The first supercluster is comprised of stationary activities: laying, sitting, standing.\n",
      "The second supercluster is comprised of dynamic activities: walking, walking downstairs, walking upstairs.\n",
      "Whereas the stationary activities greatly overlap, dynamic activities are somewhat differentiated.\n",
      "This suggests more than 2 PCA components may be needed to differentiate all activities.\n"
     ]
    },
    {
     "data": {
      "image/png": "[encoded data removed]",
      "text/plain": [
       "<Figure size 432x288 with 1 Axes>"
      ]
     },
     "metadata": {},
     "output_type": "display_data"
    }
   ],
   "source": [
    "pca = PCA(n_components=2)\n",
    "dim_reduc = pca.fit_transform(rtrain_mms) \n",
    "label_set = np.unique(df_rtrain['Activity'])\n",
    "color_set = ['b', 'g', 'r', 'c', 'y', 'm']\n",
    "plt.figure()\n",
    "for i in range(0,len(label_set)):\n",
    "    plt.scatter(dim_reduc[df_rtrain['Activity'] == label_set[i], 0], \n",
    "                dim_reduc[df_rtrain['Activity'] == label_set[i], 1], \n",
    "                color=color_set[i], marker='.', label=label_set[i])\n",
    "plt.legend(loc='best', shadow=False, scatterpoints=1)\n",
    "plt.title('Reduced to 2 dimensions via PCA')\n",
    "print(\"Using MinMaxScaler and 2-component PCA, the examples are visibly split into two superclusters.\")\n",
    "print(\"The first supercluster is comprised of stationary activities: laying, sitting, standing.\")\n",
    "print(\"The second supercluster is comprised of dynamic activities: walking, walking downstairs, walking upstairs.\")\n",
    "print(\"Whereas the stationary activities greatly overlap, dynamic activities are somewhat differentiated.\")\n",
    "print(\"This suggests more than 2 PCA components may be needed to differentiate all activities.\")\n",
    "plt.show()"
   ]
  },
  {
   "cell_type": "code",
   "execution_count": 13,
   "metadata": {},
   "outputs": [
    {
     "name": "stdout",
     "output_type": "stream",
     "text": [
      "Plots for each subject show that differentiation between activities is cleaner for some subjects.\n",
      "For example, walking downstairs and upstairs seem indistinguishable for subject 22.\n",
      "In contrast, walking downstiairs and upstairs are fairly distinct for subject 11.\n"
     ]
    },
    {
     "data": {
      "image/png": "[encoded data removed]",
      "text/plain": [
       "<Figure size 1152x864 with 21 Axes>"
      ]
     },
     "metadata": {},
     "output_type": "display_data"
    }
   ],
   "source": [
    "pca = PCA(n_components=2)\n",
    "dim_reduc = pca.fit_transform(rtrain_mms) \n",
    "subject_set = np.unique(df_rtrain['subject'])\n",
    "label_set = np.unique(df_rtrain['Activity'])\n",
    "color_set = ['b', 'g', 'r', 'c', 'y', 'm']\n",
    "plt.figure(num=None, figsize=(16,12))\n",
    "for h in range(0,len(subject_set)):\n",
    "    plt.subplot(5,6,h+1)\n",
    "    for i in range(0,len(label_set)):\n",
    "        plt.scatter(dim_reduc[(df_rtrain['Activity'] == label_set[i]) & (df_rtrain['subject'] == subject_set[h]), 0], \n",
    "                    dim_reduc[(df_rtrain['Activity'] == label_set[i]) & (df_rtrain['subject'] == subject_set[h]), 1], \n",
    "                    color=color_set[i], marker='.', label=label_set[i])\n",
    "    #plt.legend(loc='best', shadow=False, scatterpoints=1)\n",
    "    plt.title('Subject %d' % subject_set[h])\n",
    "    plt.axis([-5,11,-3,5])\n",
    "plt.subplots_adjust(top=0.92, bottom=0.08, left=0.10, right=0.95, hspace=0.35, wspace=0.35)\n",
    "print(\"Plots for each subject show that differentiation between activities is cleaner for some subjects.\")\n",
    "print(\"For example, walking downstairs and upstairs seem indistinguishable for subject 22.\")\n",
    "print(\"In contrast, walking downstiairs and upstairs are fairly distinct for subject 11.\")\n",
    "plt.show()"
   ]
  },
  {
   "cell_type": "markdown",
   "metadata": {},
   "source": [
    "## Gaussian Mixture Models\n",
    "### Repartitioning (still by subject) to generate a dev set\n",
    "* Subjects were already cleanly separated in the raw training and test sets (e.g., subject 1 is in train not test).\n",
    "* Subjects will remain cleanly separated in this first train/dev/test split. "
   ]
  },
  {
   "cell_type": "code",
   "execution_count": 14,
   "metadata": {},
   "outputs": [
    {
     "name": "stdout",
     "output_type": "stream",
     "text": [
      "Subjects included in train set: [ 2  3  4  6  8  9 12 16 17 18 19 20 21 22 24 26 28 30]\n",
      "Subjects included in dev set: [ 1  7 10 11 14 15]\n",
      "Subjects included in test set: [ 5 13 23 25 27 29]\n",
      "Train set shape: (6253, 563)\n",
      "Dev set shape: (1916, 563)\n",
      "Test set shape: (2130, 563)\n"
     ]
    }
   ],
   "source": [
    "df_rcomb = pd.concat([df_rtrain, df_rtest]).sample(frac=1).reset_index(drop=True)\n",
    "\n",
    "unsubs = np.unique(df_rcomb['subject'])\n",
    "# # tried mapping categorical subject feature to binary features\n",
    "# # realized this would be better for logistic regression...\n",
    "# d = dict((unsub, np.array(df_rcomb['subject'] == unsub).astype(int)) for unsub in unsubs)\n",
    "# df = pd.DataFrame(data=d)\n",
    "# df_rcomb = df_rcomb.join(df)\n",
    "# # verifying all went well\n",
    "# diffs = []\n",
    "# for unsub in unsubs:\n",
    "#     diffs.extend([df_rcomb[unsub]*unsub == df_rcomb['subject']])\n",
    "# print(sum(np.array(diffs).flat))\n",
    "# print(df_rcomb.shape)\n",
    "\n",
    "dev_sub_count = 6\n",
    "test_sub_count = 6\n",
    "sub_dtsplit = len(unsubs) - test_sub_count\n",
    "sub_tdsplit = sub_dtsplit - dev_sub_count\n",
    "shuffled = np.random.permutation(unsubs)\n",
    "train_subs = shuffled[:sub_tdsplit]\n",
    "dev_subs = shuffled[sub_tdsplit:sub_dtsplit]\n",
    "test_subs = shuffled[sub_dtsplit:]\n",
    "print(\"Subjects included in train set:\", np.sort(train_subs))\n",
    "print(\"Subjects included in dev set:\", np.sort(dev_subs))\n",
    "print(\"Subjects included in test set:\", np.sort(test_subs))\n",
    "\n",
    "exclude = ['Activity', 'subject']\n",
    "df_ptrain = df_rcomb.loc[df_rcomb['subject'].isin(train_subs)]\n",
    "df_ptrainf = df_ptrain.loc[:, df_ptrain.columns.difference(exclude)]\n",
    "scaler = preprocessing.MinMaxScaler(feature_range=(0,1))\n",
    "df_ptrainf = scaler.fit_transform(df_ptrainf)\n",
    "df_pdev = df_rcomb.loc[df_rcomb['subject'].isin(dev_subs)]\n",
    "df_pdevf = df_pdev.loc[:, df_pdev.columns.difference(exclude)]\n",
    "df_pdevf = scaler.transform(df_pdevf)\n",
    "df_ptest = df_rcomb.loc[df_rcomb['subject'].isin(test_subs)]\n",
    "df_ptestf = df_ptest.loc[:, df_ptest.columns.difference(exclude)]\n",
    "df_ptestf = scaler.transform(df_ptestf)\n",
    "print(\"Train set shape:\", df_ptrain.shape)\n",
    "print(\"Dev set shape:\", df_pdev.shape)\n",
    "print(\"Test set shape:\", df_ptest.shape)"
   ]
  },
  {
   "cell_type": "markdown",
   "metadata": {},
   "source": [
    "## Evaluating accuracy of 6-component GMMs with multicomponent PCA\n",
    "* Also varying covariance type GMM hyperparameter. "
   ]
  },
  {
   "cell_type": "code",
   "execution_count": 15,
   "metadata": {},
   "outputs": [
    {
     "name": "stdout",
     "output_type": "stream",
     "text": [
      "Accuracy varies somewhat between runs due to random initilization.\n",
      "Reasonably close agreement in accuracy against dev and test suggests overfitting isn't excessive.\n"
     ]
    },
    {
     "data": {
      "image/png": "[encoded data removed]",
      "text/plain": [
       "<Figure size 720x72 with 1 Axes>"
      ]
     },
     "metadata": {},
     "output_type": "display_data"
    }
   ],
   "source": [
    "def experiment(pca_comp, gmm_comp, cov_type):\n",
    "    pca = PCA(n_components=pca_comp)\n",
    "    pca.fit(df_ptrainf) \n",
    "    dim_reduc = pca.transform(df_ptrainf) \n",
    "    gmm = []\n",
    "    lp_dev = []\n",
    "    lp_test = []\n",
    "    label_set = np.unique(df_ptrain['Activity'])\n",
    "    for i in range(0,len(label_set)):\n",
    "        one_label = dim_reduc[df_ptrain['Activity'] == label_set[i]]\n",
    "        gmm.extend([GaussianMixture(n_components=gmm_comp, covariance_type=cov_type)])\n",
    "        gmm[i].fit(one_label)\n",
    "        lp_dev.extend([gmm[i].score_samples(pca.transform(df_pdevf))]) # weighted log probabilities\n",
    "        lp_test.extend([gmm[i].score_samples(pca.transform(df_ptestf))]) \n",
    "    pred_dev = []\n",
    "    pred_test = []\n",
    "    for j in range(0,lp_dev[0].shape[0]):\n",
    "        col = [row[j] for row in lp_dev]\n",
    "        pred_dev.extend([label_set[np.argmax(col)]])\n",
    "    for j in range(0,lp_test[0].shape[0]):\n",
    "        col = [row[j] for row in lp_test]\n",
    "        pred_test.extend([label_set[np.argmax(col)]]) \n",
    "    means = gmm[0].means_.size\n",
    "    covs = gmm[0].covariances_.size\n",
    "    ppc = means + covs # parameters per class\n",
    "    dev_acc = round(metrics.accuracy_score(df_pdev['Activity'],pred_dev)*100,1)\n",
    "    test_acc = round(metrics.accuracy_score(df_ptest['Activity'],pred_test)*100,1)\n",
    "    tab_cells.append([means, covs, ppc, dev_acc, test_acc])\n",
    "    tab_rows.extend([\"%d-component PCA with %d-component %s covariance GMM\" \n",
    "                     % (pca_comp, gmm_comp, cov_type)])\n",
    "\n",
    "tab_cols = ['means', 'covariances', 'params per class', 'dev accuracy', 'test accuracy']\n",
    "tab_rows = []\n",
    "tab_cells = []\n",
    "ppc_lim = 50 # arbitrary limit on parameters per class\n",
    "covs = ['spherical', 'diag', 'tied', 'full'] \n",
    "\n",
    "gmm_comp = np.unique(df_ptrain['Activity']).shape[0] # setting to class count for simplicity\n",
    "for cov in covs:\n",
    "    if cov == 'spherical':\n",
    "        pca_comp = 5 # each component has its own single variance\n",
    "    elif cov == 'diag':\n",
    "        pca_comp = 3 # each component has its own diagonal covariance matrix\n",
    "    elif cov == 'tied':\n",
    "        pca_comp = 4 # all components share the same general covariance matrix\n",
    "    elif cov == 'full':\n",
    "        pca_comp = 2 # each component has its own general covariance matrix\n",
    "    else:\n",
    "        print(\"error: bad cov\")\n",
    "    if gmm_comp > 0:\n",
    "        experiment(pca_comp, gmm_comp, cov)\n",
    "            \n",
    "tab_cells = np.array(tab_cells)\n",
    "print(\"Accuracy varies somewhat between runs due to random initilization.\")\n",
    "print(\"Reasonably close agreement in accuracy against dev and test suggests overfitting isn't excessive.\")\n",
    "\n",
    "plt.figure(figsize=(10, 1)) \n",
    "tab = plt.table(cellText=tab_cells,rowLabels=tab_rows, colLabels=tab_cols, \n",
    "                cellLoc='center', loc='upper left')\n",
    "for key, cell in tab.get_celld().items():\n",
    "    row, col = key\n",
    "plt.axis('off')\n",
    "tab.scale(xscale=1, yscale=1.5) # for row spacing relative to text\n",
    "plt.show()"
   ]
  },
  {
   "cell_type": "markdown",
   "metadata": {},
   "source": [
    "## KMeans and KNN"
   ]
  },
  {
   "cell_type": "markdown",
   "metadata": {},
   "source": [
    "In this section we attempt multiple kNN analyses - first a full six label classification model, then distinct static (standing, sitting, laying) and dynamic (walking, walking upstairs, walking downstairs) models."
   ]
  },
  {
   "cell_type": "code",
   "execution_count": 16,
   "metadata": {},
   "outputs": [],
   "source": [
    "# annotate dynamic and static data and separate data\n",
    "df_rtrain[\"Static\"] = df_rtrain[\"Activity\"].isin([\"SITTING\", \"LAYING\", \"STANDING\"])\n",
    "df_rtest[\"Static\"] = df_rtest[\"Activity\"].isin([\"SITTING\", \"LAYING\", \"STANDING\"])\n",
    "\n",
    "X_train = df_rtrain.loc[:, df_rtrain.drop([\"subject\", \"Activity\", \"Static\"], axis=1).columns]\n",
    "y_train = df_rtrain[\"Activity\"]\n",
    "X_test = df_rtest.loc[:, df_rtest.drop([\"subject\", \"Activity\", \"Static\"], axis=1).columns]\n",
    "y_test = df_rtest[\"Activity\"]\n",
    "\n",
    "\n",
    "X_static_train = df_rtrain.loc[df_rtrain[\"Static\"]==True, df_rtrain.drop([\"subject\", \"Activity\", \"Static\"], axis=1).columns]\n",
    "y_static_train = df_rtrain[\"Activity\"][df_rtrain[\"Static\"]==True]\n",
    "X_static_test = df_rtest.loc[df_rtest[\"Static\"]==True, df_rtest.drop([\"subject\", \"Activity\", \"Static\"], axis=1).columns]\n",
    "y_static_test = df_rtest[\"Activity\"][df_rtest[\"Static\"]==True]\n",
    "\n",
    "X_dynamic_train = df_rtrain.loc[df_rtrain[\"Static\"]==False, df_rtrain.drop([\"subject\", \"Activity\", \"Static\"], axis=1).columns]\n",
    "y_dynamic_train = df_rtrain[\"Activity\"][df_rtrain[\"Static\"]==False]\n",
    "X_dynamic_test = df_rtest.loc[df_rtest[\"Static\"]==False, df_rtest.drop([\"subject\", \"Activity\", \"Static\"], axis=1).columns]\n",
    "y_dynamic_test = df_rtest[\"Activity\"][df_rtest[\"Static\"]==False]"
   ]
  },
  {
   "cell_type": "markdown",
   "metadata": {
    "collapsed": true
   },
   "source": [
    "### Single, 6-label KNN w/o Feature Reduction - KNN Baseline"
   ]
  },
  {
   "cell_type": "code",
   "execution_count": 17,
   "metadata": {},
   "outputs": [
    {
     "name": "stdout",
     "output_type": "stream",
     "text": [
      "Default parameter 6-label kNN results in an accuracy of 0.9002\n"
     ]
    }
   ],
   "source": [
    "knn1 = KNeighborsClassifier(n_jobs=-1)\n",
    "knn1.fit(X_train, y_train)\n",
    "print(\"Default parameter 6-label kNN results in an accuracy of {:.4f}\".format(knn1.score(X_test, y_test)))"
   ]
  },
  {
   "cell_type": "code",
   "execution_count": 18,
   "metadata": {},
   "outputs": [
    {
     "name": "stdout",
     "output_type": "stream",
     "text": [
      "Using 3-fold cross validation on the training set to fit the kNN \n",
      "      hyperparameters results in an increased accuracy of .9056\n"
     ]
    }
   ],
   "source": [
    "param_grid = {\"n_neighbors\":[5,10,15,20,25,30,35],\n",
    "              \"weights\" : [\"distance\", \"uniform\"],\n",
    "              \"algorithm\":[\"auto\"],\n",
    "              \"leaf_size\":[10,20,30,40],\n",
    "              \"p\":[1, 1.5, 2] }\n",
    "\n",
    "# code commented out to prevent rerunning compute intensive gridsearch\n",
    "# gridsearch was run multiple times with increasing resolution of parameters to attempt to locate the best hyperparameters\n",
    "#knngrid = GridSearchCV(KNeighborsClassifier(), param_grid, cv=3, scoring='accuracy', n_jobs=-1, verbose = 2)\n",
    "#knngrid.fit(X_train, y_train)\n",
    "\n",
    "print(\"\"\"Using 3-fold cross validation on the training set to fit the kNN \n",
    "hyperparameters results in an increased accuracy of .9056\"\"\")\n",
    "#print(\"Best Accuracy:\", knngrid.best_score_)\n",
    "#print(\"Parameters:\", knngrid.best_params_)"
   ]
  },
  {
   "cell_type": "code",
   "execution_count": 19,
   "metadata": {},
   "outputs": [
    {
     "name": "stdout",
     "output_type": "stream",
     "text": [
      "Refined hyperparameters 6-label kNN results in an accuracy of 0.9230 \n",
      "      when training on the whole training set and testing on the test set\n"
     ]
    }
   ],
   "source": [
    "knn1_refined = KNeighborsClassifier(n_neighbors=20, leaf_size =10, weights = \"uniform\", p = 1, n_jobs=-1)\n",
    "knn1_refined.fit(X_train, y_train)\n",
    "print(\"\"\"Refined hyperparameters 6-label kNN results in an accuracy of {:.4f} \n",
    "when training on the whole training set and testing on the test set\"\"\".format(knn1_refined.score(X_test, y_test)))"
   ]
  },
  {
   "cell_type": "markdown",
   "metadata": {},
   "source": [
    "### Separate KNN for Dynamic and Static Activities"
   ]
  },
  {
   "cell_type": "markdown",
   "metadata": {},
   "source": [
    "2-feature PCA reduced data resulted in distinct dynamic and static groupings above. In this extension, we evaluate kMeans clustering on PCA reduced data as a first step to classify the activities, followed by a kNN model for each grouping of activity."
   ]
  },
  {
   "cell_type": "markdown",
   "metadata": {},
   "source": [
    "- KMeans Clustering w/ Maximally Reduced Data"
   ]
  },
  {
   "cell_type": "code",
   "execution_count": 21,
   "metadata": {},
   "outputs": [
    {
     "name": "stdout",
     "output_type": "stream",
     "text": [
      "Reduction from the full feature space to a single feature still manages to explain [0.6268092] of the variance.\n"
     ]
    }
   ],
   "source": [
    "pca1 = PCA(1)\n",
    "pca1_features = pca1.fit_transform(df_rtrain.loc[:, df_rtrain.drop([\"subject\", \"Activity\"], axis=1).columns])\n",
    "print(\"Reduction from the full feature space to a single feature still manages to explain {} of the variance.\".format(pca1.explained_variance_ratio_))"
   ]
  },
  {
   "cell_type": "code",
   "execution_count": 23,
   "metadata": {},
   "outputs": [
    {
     "data": {
      "text/html": [
       "<div>\n",
       "<style scoped>\n",
       "    .dataframe tbody tr th:only-of-type {\n",
       "        vertical-align: middle;\n",
       "    }\n",
       "\n",
       "    .dataframe tbody tr th {\n",
       "        vertical-align: top;\n",
       "    }\n",
       "\n",
       "    .dataframe thead th {\n",
       "        text-align: right;\n",
       "    }\n",
       "</style>\n",
       "<table border=\"1\" class=\"dataframe\">\n",
       "  <thead>\n",
       "    <tr style=\"text-align: right;\">\n",
       "      <th>Prediction</th>\n",
       "      <th>0</th>\n",
       "      <th>1</th>\n",
       "    </tr>\n",
       "    <tr>\n",
       "      <th>Activity</th>\n",
       "      <th></th>\n",
       "      <th></th>\n",
       "    </tr>\n",
       "  </thead>\n",
       "  <tbody>\n",
       "    <tr>\n",
       "      <th>LAYING</th>\n",
       "      <td>11</td>\n",
       "      <td>1396</td>\n",
       "    </tr>\n",
       "    <tr>\n",
       "      <th>SITTING</th>\n",
       "      <td>1</td>\n",
       "      <td>1285</td>\n",
       "    </tr>\n",
       "    <tr>\n",
       "      <th>STANDING</th>\n",
       "      <td>0</td>\n",
       "      <td>1374</td>\n",
       "    </tr>\n",
       "    <tr>\n",
       "      <th>WALKING</th>\n",
       "      <td>1226</td>\n",
       "      <td>0</td>\n",
       "    </tr>\n",
       "    <tr>\n",
       "      <th>WALKING_DOWNSTAIRS</th>\n",
       "      <td>986</td>\n",
       "      <td>0</td>\n",
       "    </tr>\n",
       "    <tr>\n",
       "      <th>WALKING_UPSTAIRS</th>\n",
       "      <td>1073</td>\n",
       "      <td>0</td>\n",
       "    </tr>\n",
       "  </tbody>\n",
       "</table>\n",
       "</div>"
      ],
      "text/plain": [
       "Prediction             0     1\n",
       "Activity                      \n",
       "LAYING                11  1396\n",
       "SITTING                1  1285\n",
       "STANDING               0  1374\n",
       "WALKING             1226     0\n",
       "WALKING_DOWNSTAIRS   986     0\n",
       "WALKING_UPSTAIRS    1073     0"
      ]
     },
     "execution_count": 23,
     "metadata": {},
     "output_type": "execute_result"
    }
   ],
   "source": [
    "kmeans = KMeans(n_clusters = 2, n_jobs=-1)\n",
    "kmeans.fit(pca1_features)\n",
    "prediction = kmeans.predict(pca1_features)\n",
    "\n",
    "result = pd.DataFrame({\"Prediction\": prediction, \"Activity\": df_rtrain[\"Activity\"],\n",
    "                       \"Count\":[1 for i in range(len(prediction))]})\n",
    "\n",
    "pd.pivot_table(index = \"Activity\", columns = \"Prediction\", values = \"Count\",\n",
    "               aggfunc = \"count\", data = result, fill_value = 0)"
   ]
  },
  {
   "cell_type": "markdown",
   "metadata": {},
   "source": [
    "PCA reduction to a single feature combined with a two-cluster kmeans analysis correctly classifies activities as static or dynamic 99.84% of the time. If different models can perform better on these subsets than on the whole 6-label classification problem, then we have a great candidate for an ensemble model."
   ]
  },
  {
   "cell_type": "markdown",
   "metadata": {},
   "source": [
    "- KNN for Static Activity Classification"
   ]
  },
  {
   "cell_type": "code",
   "execution_count": 25,
   "metadata": {},
   "outputs": [
    {
     "name": "stdout",
     "output_type": "stream",
     "text": [
      "Default parameter 3-label Static Activity kNN results in an accuracy of 0.9090\n"
     ]
    }
   ],
   "source": [
    "knn_static = KNeighborsClassifier(n_jobs=-1)\n",
    "knn_static.fit(X_static_train, y_static_train)\n",
    "print(\"Default parameter 3-label Static Activity kNN results in an accuracy of {:.4f}\".format(knn_static.score(X_static_test, y_static_test)))"
   ]
  },
  {
   "cell_type": "code",
   "execution_count": 26,
   "metadata": {},
   "outputs": [
    {
     "name": "stdout",
     "output_type": "stream",
     "text": [
      "Using 3-fold cross validation on the training set to fit the kNN \n",
      "hyperparameters results in a decreased accuracy of .8864\n"
     ]
    }
   ],
   "source": [
    "param_grid = {\"n_neighbors\":[14,16,18,20,22,24,26],\n",
    "              \"weights\" : [\"distance\"],\n",
    "              \"algorithm\":[\"auto\"],\n",
    "              \"leaf_size\":[5,6,7,8,9,10,11,12,13,14,15],\n",
    "              \"p\":[1.5] }\n",
    "\n",
    "# code commented out to prevent rerunning compute intensive gridsearch\n",
    "# gridsearch was run multiple times with increasing resolution of parameters to attempt to locate the best hyperparameters\n",
    "#knn_static_grid = GridSearchCV(KNeighborsClassifier(), param_grid, cv=3, scoring='accuracy', n_jobs=-1, verbose = 2)\n",
    "#knn_static_grid.fit(X_static_train, y_static_train)\n",
    "\n",
    "print(\"\"\"Using 3-fold cross validation on the training set to fit the kNN \n",
    "hyperparameters results in a decreased accuracy of .8864\"\"\")\n",
    "#print(\"Best Accuracy:\", knn_static_grid.best_score_)\n",
    "#print(\"Parameters:\", knn_static_grid.best_params_)"
   ]
  },
  {
   "cell_type": "code",
   "execution_count": 27,
   "metadata": {},
   "outputs": [
    {
     "name": "stdout",
     "output_type": "stream",
     "text": [
      "Refined hyperparameters 3-label Static Activity kNN results in an accuracy of 0.9301 \n",
      "when training on the whole training set and testing on the test set\n"
     ]
    }
   ],
   "source": [
    "knn_static_refined = KNeighborsClassifier(n_neighbors=22, leaf_size =5, weights = \"distance\", p = 1.5, n_jobs=-1)\n",
    "knn_static_refined.fit(X_static_train, y_static_train)\n",
    "print(\"\"\"Refined hyperparameters 3-label Static Activity kNN results in an accuracy of {:.4f} \n",
    "when training on the whole training set and testing on the test set\"\"\".format(knn_static_refined.score(X_static_test, y_static_test)))"
   ]
  },
  {
   "cell_type": "markdown",
   "metadata": {},
   "source": [
    "- KNN for Dynamic Activity Classification"
   ]
  },
  {
   "cell_type": "code",
   "execution_count": 31,
   "metadata": {},
   "outputs": [
    {
     "name": "stdout",
     "output_type": "stream",
     "text": [
      "Default parameter 3-label Dynamic Activity kNN results in an accuracy of 0.8904\n"
     ]
    }
   ],
   "source": [
    "knn_dynamic = KNeighborsClassifier(n_jobs=-1)\n",
    "knn_dynamic.fit(X_dynamic_train, y_dynamic_train)\n",
    "print(\"Default parameter 3-label Dynamic Activity kNN results in an accuracy of {:.4f}\".format(knn_dynamic.score(X_dynamic_test, y_dynamic_test)))"
   ]
  },
  {
   "cell_type": "code",
   "execution_count": 32,
   "metadata": {},
   "outputs": [
    {
     "name": "stdout",
     "output_type": "stream",
     "text": [
      "Using 3-fold cross validation on the training set to fit the kNN \n",
      "hyperparameters results in an increased accuracy of .9169\n"
     ]
    }
   ],
   "source": [
    "param_grid = {\"n_neighbors\":[14,16,18,20,22,24,26],\n",
    "              \"weights\" : [\"distance\"],\n",
    "              \"algorithm\":[\"auto\"],\n",
    "              \"leaf_size\":[5,6,7,8,9,10,11,12,13,14,15],\n",
    "              \"p\":[1.5] }\n",
    "\n",
    "# code commented out to prevent rerunning compute intensive gridsearch\n",
    "# gridsearch was run multiple times with increasing resolution of parameters to attempt to locate the best hyperparameters\n",
    "#knn_dynamic_grid = GridSearchCV(KNeighborsClassifier(), param_grid, cv=3, scoring='accuracy', n_jobs=-1, verbose = 2)\n",
    "#knn_dynamic_grid.fit(X_dynamic_train, y_dynamic_train)\n",
    "\n",
    "print(\"\"\"Using 3-fold cross validation on the training set to fit the kNN \n",
    "hyperparameters results in an increased accuracy of .9169\"\"\")\n",
    "#print(\"Best Accuracy:\", knn_dynamic_grid.best_score_)\n",
    "#print(\"Parameters:\", knn_dynamic_grid.best_params_)"
   ]
  },
  {
   "cell_type": "code",
   "execution_count": 36,
   "metadata": {},
   "outputs": [
    {
     "name": "stdout",
     "output_type": "stream",
     "text": [
      "Refined hyperparameters 3-label Dynamic Activity kNN results in an accuracy of 0.9019 \n",
      "when training on the whole training set and testing on the test set\n"
     ]
    }
   ],
   "source": [
    "knn_dynamic_refined = KNeighborsClassifier(n_neighbors=20, leaf_size =5, weights = \"distance\", p = 1.5, n_jobs=-1)\n",
    "knn_dynamic_refined.fit(X_dynamic_train, y_dynamic_train)\n",
    "print(\"\"\"Refined hyperparameters 3-label Dynamic Activity kNN results in an accuracy of {:.4f} \n",
    "when training on the whole training set and testing on the test set\"\"\".format(knn_dynamic_refined.score(X_dynamic_test, y_dynamic_test)))"
   ]
  },
  {
   "cell_type": "markdown",
   "metadata": {},
   "source": [
    "- kNN Ensemble Comments"
   ]
  },
  {
   "cell_type": "markdown",
   "metadata": {},
   "source": [
    "In this course of analysis we found that KMeans clustering on single feature PCA reduced data is an excellent candidate for a first stage ensemble. However, training two unique KNN classifiers for static and dynamic activity classification results in negligible performance gain versus training a 6-label KNN classifier. The 6-label classifier performs with an overall accuracy of 92.3% with a single model. Static activity classification performs slightly better, with a 93.0% accuracy but is offset by a lower performing dynamic activity classifier, which only performs at 90.2% accuracy."
   ]
  },
  {
   "cell_type": "markdown",
   "metadata": {},
   "source": [
    "## Other Models"
   ]
  },
  {
   "cell_type": "code",
   "execution_count": null,
   "metadata": {},
   "outputs": [],
   "source": [
    "# If anyone is feeling ambitious..."
   ]
  },
  {
   "cell_type": "markdown",
   "metadata": {},
   "source": [
    "## Logistic Regression"
   ]
  },
  {
   "cell_type": "code",
   "execution_count": null,
   "metadata": {},
   "outputs": [],
   "source": [
    "# This is Annie's stuff - Annie will parse this down to simplify "
   ]
  },
  {
   "cell_type": "code",
   "execution_count": null,
   "metadata": {},
   "outputs": [],
   "source": [
    "model_log = LogisticRegression()\n",
    "model_log.fit(train_data, train_labels)\n",
    "predict_labels = model_log.predict(test_data)\n",
    "        \n",
    "# Calculate metrics\n",
    "#accuracy = sum(train_labels == predict_labels) / len(test_labels)\n",
    "f1_score = metrics.f1_score(test_labels, predict_labels, average = 'weighted')\n",
    "\n",
    "#print(accuracy)\n",
    "print(f1_score)"
   ]
  },
  {
   "cell_type": "code",
   "execution_count": null,
   "metadata": {},
   "outputs": [],
   "source": [
    "parameters = {'penalty':('l1', 'l2'), 'C': [0.001, 0.01, 0.1, 0.5, 0.9, 1, 1.25,  2, 5, 10]}\n",
    "#[0.0001, 0.001, 0.01, 0.1, 0.5, 0.75, 0.85, 0.9, 0.95, 0.99, 1, 1.25, 1.5, 2, 5, 10, 50, 100, 500, 1000]}\n",
    "model_log = LogisticRegression()\n",
    "search_model = GridSearchCV(model_log, parameters)\n",
    "search_model.fit(train_data, train_labels)\n",
    "\n",
    "output = search_model.cv_results_ \n",
    "output"
   ]
  },
  {
   "cell_type": "code",
   "execution_count": null,
   "metadata": {},
   "outputs": [],
   "source": [
    "search_model.best_estimator_"
   ]
  },
  {
   "cell_type": "code",
   "execution_count": null,
   "metadata": {},
   "outputs": [],
   "source": [
    "search_model.best_score_"
   ]
  },
  {
   "cell_type": "code",
   "execution_count": null,
   "metadata": {},
   "outputs": [],
   "source": [
    "model_log = LogisticRegression(C=10)\n",
    "model_log.fit(train_data, train_labels)\n",
    "predict_labels = model_log.predict(test_data)\n",
    "        \n",
    "# Calculate metrics\n",
    "f1_score = metrics.f1_score(test_labels, predict_labels, average = 'weighted')\n",
    "print(f'F1-Score: {f1_score}')\n",
    "\n",
    "accuracy = metrics.accuracy_score(test_labels, predict_labels)\n",
    "print(f'Accuracy: {accuracy}')\n",
    "\n",
    "print(classification_report(test_labels, predict_labels, target_names = target_names))\n",
    "show_confusion_mat(test_labels, predict_labels, target_names)"
   ]
  },
  {
   "cell_type": "code",
   "execution_count": null,
   "metadata": {},
   "outputs": [],
   "source": [
    "show_confusion_mat(test_labels, predict_labels, target_names)"
   ]
  },
  {
   "cell_type": "code",
   "execution_count": null,
   "metadata": {},
   "outputs": [],
   "source": [
    "print(classification_report(test_labels, predict_labels, target_names = target_names))"
   ]
  },
  {
   "cell_type": "code",
   "execution_count": null,
   "metadata": {},
   "outputs": [],
   "source": [
    "accuracy = metrics.accuracy_score(test_labels, predict_labels)\n",
    "print(accuracy)"
   ]
  },
  {
   "cell_type": "code",
   "execution_count": null,
   "metadata": {},
   "outputs": [],
   "source": [
    "coefs = model_log.coef_\n",
    "coefs"
   ]
  },
  {
   "cell_type": "markdown",
   "metadata": {},
   "source": [
    "### Comments and Next Steps "
   ]
  },
  {
   "cell_type": "markdown",
   "metadata": {},
   "source": [
    "## Binary Classification - Dynamic vs. Static"
   ]
  },
  {
   "cell_type": "code",
   "execution_count": null,
   "metadata": {},
   "outputs": [],
   "source": [
    "model_log = LogisticRegression()\n",
    "model_log.fit(train_data, train_group)\n",
    "predict_labels = model_log.predict(test_data)\n",
    "        \n",
    "# Calculate metrics\n",
    "f1_score = metrics.f1_score(test_group, predict_labels, average = 'weighted')\n",
    "print(f'F1-Score: {f1_score}')\n",
    "\n",
    "accuracy = metrics.accuracy_score(test_group, predict_labels)\n",
    "print(f'Accuracy: {accuracy}')\n",
    "\n",
    "print(classification_report(test_group, predict_labels, target_names = group_names))\n",
    "show_confusion_mat(test_group, predict_labels, group_names)"
   ]
  },
  {
   "cell_type": "code",
   "execution_count": null,
   "metadata": {},
   "outputs": [],
   "source": []
  },
  {
   "cell_type": "code",
   "execution_count": null,
   "metadata": {},
   "outputs": [],
   "source": [
    "coefs = model_log.coef_\n",
    "sort_val_coefs = np.sort(coefs)\n",
    "for val in np.flip(sort_val_coefs[0, -10:], axis = 0):\n",
    "    print(val)\n",
    "sort_ind_coefs = np.argsort(coefs)\n",
    "sort_contribute = all_columns[sort_ind_coefs]\n",
    "for contrib in np.flip(sort_contribute[0, -10:], axis = 0):\n",
    "    print(contrib)"
   ]
  },
  {
   "cell_type": "code",
   "execution_count": null,
   "metadata": {},
   "outputs": [],
   "source": [
    "fig = plt.figure()\n",
    "ax = fig.add_subplot(1, 1, 1)\n",
    "plt.hist(coefs[0,:], bins = 15)"
   ]
  },
  {
   "cell_type": "markdown",
   "metadata": {},
   "source": [
    "# 2 Component PCA "
   ]
  },
  {
   "cell_type": "code",
   "execution_count": null,
   "metadata": {},
   "outputs": [],
   "source": [
    "pca = PCA(2)\n",
    "train_pca_data = pca.fit_transform(train_data)\n",
    "test_pca_data = pca.transform(test_data)\n",
    "\n",
    "\n",
    "model_log = LogisticRegression()\n",
    "model_log.fit(train_pca_data, train_labels)\n",
    "predict_labels = model_log.predict(test_pca_data)\n",
    "        \n",
    "# Calculate metrics\n",
    "f1_score = metrics.f1_score(test_labels, predict_labels, average = 'weighted')\n",
    "print(f'F1-Score: {f1_score}')\n",
    "\n",
    "accuracy = metrics.accuracy_score(test_labels, predict_labels)\n",
    "print(f'Accuracy: {accuracy}')\n",
    "\n",
    "print(classification_report(test_labels, predict_labels, target_names = target_names))\n",
    "show_confusion_mat(test_labels, predict_labels, target_names)"
   ]
  },
  {
   "cell_type": "markdown",
   "metadata": {},
   "source": [
    "## 100 Component PCA"
   ]
  },
  {
   "cell_type": "code",
   "execution_count": null,
   "metadata": {},
   "outputs": [],
   "source": [
    "pca = PCA(100)\n",
    "train_pca_data = pca.fit_transform(train_data)\n",
    "test_pca_data = pca.transform(test_data)\n",
    "\n",
    "\n",
    "model_log = LogisticRegression()\n",
    "model_log.fit(train_pca_data, train_labels)\n",
    "predict_labels = model_log.predict(test_pca_data)\n",
    "        \n",
    "# Calculate metrics\n",
    "f1_score = metrics.f1_score(test_labels, predict_labels, average = 'weighted')\n",
    "print(f'F1-Score: {f1_score}')\n",
    "\n",
    "accuracy = metrics.accuracy_score(test_labels, predict_labels)\n",
    "print(f'Accuracy: {accuracy}')\n",
    "\n",
    "print(classification_report(test_labels, predict_labels, target_names = target_names))\n",
    "show_confusion_mat(test_labels, predict_labels, target_names)"
   ]
  },
  {
   "cell_type": "markdown",
   "metadata": {},
   "source": [
    "## 10 Component PCA"
   ]
  },
  {
   "cell_type": "code",
   "execution_count": null,
   "metadata": {},
   "outputs": [],
   "source": [
    "pca = PCA(10)\n",
    "train_pca_data = pca.fit_transform(train_data)\n",
    "test_pca_data = pca.transform(test_data)\n",
    "\n",
    "\n",
    "model_log = LogisticRegression()\n",
    "model_log.fit(train_pca_data, train_labels)\n",
    "predict_labels = model_log.predict(test_pca_data)\n",
    "        \n",
    "# Calculate metrics\n",
    "f1_score = metrics.f1_score(test_labels, predict_labels, average = 'weighted')\n",
    "print(f'F1-Score: {f1_score}')\n",
    "\n",
    "accuracy = metrics.accuracy_score(test_labels, predict_labels)\n",
    "print(f'Accuracy: {accuracy}')\n",
    "\n",
    "print(classification_report(test_labels, predict_labels, target_names = target_names))\n",
    "show_confusion_mat(test_labels, predict_labels, target_names)"
   ]
  },
  {
   "cell_type": "markdown",
   "metadata": {},
   "source": [
    "## Create a search over the space"
   ]
  },
  {
   "cell_type": "code",
   "execution_count": null,
   "metadata": {},
   "outputs": [],
   "source": [
    "#fig = plt.figure()\n",
    "#ax = fig.add_subplot(1, 1, 1)\n",
    "\n",
    "train_cat = df_rtrain['Activity'].astype('category')\n",
    "df_pca = pd.DataFrame({'x' : train_pca_data[:,0],\n",
    "                       'y' : train_pca_data[:,1],\n",
    "                       'cat' : train_cat\n",
    "})\n",
    "df_pca.plot.scatter('x', 'y', c='cat')\n",
    "\n",
    "#plt.scatter(train_pca_data[:,0],train_pca_data[:,1], c = train_cat)\n"
   ]
  },
  {
   "cell_type": "code",
   "execution_count": null,
   "metadata": {},
   "outputs": [],
   "source": [
    "train_cat[0:10]"
   ]
  },
  {
   "cell_type": "markdown",
   "metadata": {},
   "source": [
    "# Look at only Frequency Domain "
   ]
  },
  {
   "cell_type": "code",
   "execution_count": null,
   "metadata": {},
   "outputs": [],
   "source": [
    "freq_columns = [col if re.match('^f', col) for col in feature_columns]\n",
    "len(freq_columns)"
   ]
  },
  {
   "cell_type": "code",
   "execution_count": null,
   "metadata": {},
   "outputs": [],
   "source": []
  }
 ],
 "metadata": {
  "kernelspec": {
   "display_name": "Python 3",
   "language": "python",
   "name": "python3"
  },
  "language_info": {
   "codemirror_mode": {
    "name": "ipython",
    "version": 3
   },
   "file_extension": ".py",
   "mimetype": "text/x-python",
   "name": "python",
   "nbconvert_exporter": "python",
   "pygments_lexer": "ipython3",
   "version": "3.6.6"
  }
 },
 "nbformat": 4,
 "nbformat_minor": 2
}
